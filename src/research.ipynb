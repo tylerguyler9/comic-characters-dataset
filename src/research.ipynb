{
 "cells": [
  {
   "cell_type": "markdown",
   "id": "53b321d1",
   "metadata": {},
   "source": [
    "# Research: Comic Characters\n",
    "Which comic characters appear the most? How common are each eye color, hair color, and sex?"
   ]
  },
  {
   "cell_type": "code",
   "execution_count": 1,
   "id": "d7c98823",
   "metadata": {},
   "outputs": [],
   "source": [
    "import pandas\n",
    "import matplotlib.pyplot as pyplot"
   ]
  },
  {
   "cell_type": "code",
   "execution_count": 2,
   "id": "d4760d41",
   "metadata": {},
   "outputs": [
    {
     "data": {
      "text/html": [
       "<div>\n",
       "<style scoped>\n",
       "    .dataframe tbody tr th:only-of-type {\n",
       "        vertical-align: middle;\n",
       "    }\n",
       "\n",
       "    .dataframe tbody tr th {\n",
       "        vertical-align: top;\n",
       "    }\n",
       "\n",
       "    .dataframe thead th {\n",
       "        text-align: right;\n",
       "    }\n",
       "</style>\n",
       "<table border=\"1\" class=\"dataframe\">\n",
       "  <thead>\n",
       "    <tr style=\"text-align: right;\">\n",
       "      <th></th>\n",
       "      <th>Name</th>\n",
       "      <th>Identity</th>\n",
       "      <th>Type</th>\n",
       "      <th>Sex</th>\n",
       "      <th>Eye Color</th>\n",
       "      <th>Hair Color</th>\n",
       "      <th>Alive</th>\n",
       "      <th>Appearances</th>\n",
       "      <th>First Appearance</th>\n",
       "    </tr>\n",
       "  </thead>\n",
       "  <tbody>\n",
       "    <tr>\n",
       "      <th>0</th>\n",
       "      <td>Batman</td>\n",
       "      <td>Bruce Wayne</td>\n",
       "      <td>Good</td>\n",
       "      <td>Male</td>\n",
       "      <td>Blue</td>\n",
       "      <td>Black</td>\n",
       "      <td>True</td>\n",
       "      <td>3093</td>\n",
       "      <td>1939</td>\n",
       "    </tr>\n",
       "    <tr>\n",
       "      <th>1</th>\n",
       "      <td>Superman</td>\n",
       "      <td>Clark Kent</td>\n",
       "      <td>Good</td>\n",
       "      <td>Male</td>\n",
       "      <td>Blue</td>\n",
       "      <td>Black</td>\n",
       "      <td>True</td>\n",
       "      <td>2496</td>\n",
       "      <td>1986</td>\n",
       "    </tr>\n",
       "    <tr>\n",
       "      <th>2</th>\n",
       "      <td>Green Lantern</td>\n",
       "      <td>Hal Jordan</td>\n",
       "      <td>Good</td>\n",
       "      <td>Male</td>\n",
       "      <td>Brown</td>\n",
       "      <td>Brown</td>\n",
       "      <td>True</td>\n",
       "      <td>1565</td>\n",
       "      <td>1959</td>\n",
       "    </tr>\n",
       "    <tr>\n",
       "      <th>3</th>\n",
       "      <td>James Gordon</td>\n",
       "      <td>New Earth</td>\n",
       "      <td>Good</td>\n",
       "      <td>Male</td>\n",
       "      <td>Brown</td>\n",
       "      <td>White</td>\n",
       "      <td>True</td>\n",
       "      <td>1316</td>\n",
       "      <td>1987</td>\n",
       "    </tr>\n",
       "    <tr>\n",
       "      <th>4</th>\n",
       "      <td>Richard Grayson</td>\n",
       "      <td>New Earth</td>\n",
       "      <td>Good</td>\n",
       "      <td>Male</td>\n",
       "      <td>Blue</td>\n",
       "      <td>Black</td>\n",
       "      <td>True</td>\n",
       "      <td>1237</td>\n",
       "      <td>1940</td>\n",
       "    </tr>\n",
       "  </tbody>\n",
       "</table>\n",
       "</div>"
      ],
      "text/plain": [
       "              Name     Identity  Type   Sex Eye Color Hair Color  Alive  \\\n",
       "0           Batman  Bruce Wayne  Good  Male      Blue      Black   True   \n",
       "1         Superman   Clark Kent  Good  Male      Blue      Black   True   \n",
       "2    Green Lantern   Hal Jordan  Good  Male     Brown      Brown   True   \n",
       "3     James Gordon    New Earth  Good  Male     Brown      White   True   \n",
       "4  Richard Grayson    New Earth  Good  Male      Blue      Black   True   \n",
       "\n",
       "   Appearances  First Appearance  \n",
       "0         3093              1939  \n",
       "1         2496              1986  \n",
       "2         1565              1959  \n",
       "3         1316              1987  \n",
       "4         1237              1940  "
      ]
     },
     "execution_count": 2,
     "metadata": {},
     "output_type": "execute_result"
    }
   ],
   "source": [
    "comic_characters_df = pandas.read_csv(\"data/comic_characters.csv\")\n",
    "\n",
    "comic_characters_df.head()"
   ]
  },
  {
   "cell_type": "markdown",
   "id": "01342552",
   "metadata": {},
   "source": [
    "## Question 1: Which comic characters appear the most?"
   ]
  },
  {
   "cell_type": "code",
   "execution_count": 3,
   "id": "2b7348c0",
   "metadata": {},
   "outputs": [
    {
     "data": {
      "text/html": [
       "<div>\n",
       "<style scoped>\n",
       "    .dataframe tbody tr th:only-of-type {\n",
       "        vertical-align: middle;\n",
       "    }\n",
       "\n",
       "    .dataframe tbody tr th {\n",
       "        vertical-align: top;\n",
       "    }\n",
       "\n",
       "    .dataframe thead th {\n",
       "        text-align: right;\n",
       "    }\n",
       "</style>\n",
       "<table border=\"1\" class=\"dataframe\">\n",
       "  <thead>\n",
       "    <tr style=\"text-align: right;\">\n",
       "      <th></th>\n",
       "      <th>Name</th>\n",
       "      <th>Appearances</th>\n",
       "    </tr>\n",
       "  </thead>\n",
       "  <tbody>\n",
       "    <tr>\n",
       "      <th>0</th>\n",
       "      <td>Batman</td>\n",
       "      <td>3093</td>\n",
       "    </tr>\n",
       "    <tr>\n",
       "      <th>1</th>\n",
       "      <td>Superman</td>\n",
       "      <td>2496</td>\n",
       "    </tr>\n",
       "    <tr>\n",
       "      <th>2</th>\n",
       "      <td>Green Lantern</td>\n",
       "      <td>1565</td>\n",
       "    </tr>\n",
       "    <tr>\n",
       "      <th>3</th>\n",
       "      <td>James Gordon</td>\n",
       "      <td>1316</td>\n",
       "    </tr>\n",
       "    <tr>\n",
       "      <th>4</th>\n",
       "      <td>Richard Grayson</td>\n",
       "      <td>1237</td>\n",
       "    </tr>\n",
       "  </tbody>\n",
       "</table>\n",
       "</div>"
      ],
      "text/plain": [
       "              Name  Appearances\n",
       "0           Batman         3093\n",
       "1         Superman         2496\n",
       "2    Green Lantern         1565\n",
       "3     James Gordon         1316\n",
       "4  Richard Grayson         1237"
      ]
     },
     "execution_count": 3,
     "metadata": {},
     "output_type": "execute_result"
    }
   ],
   "source": [
    "name_appearances_df = comic_characters_df.copy()[[\"Name\", \"Appearances\"]].head()\n",
    "\n",
    "name_appearances_df"
   ]
  },
  {
   "cell_type": "code",
   "execution_count": 4,
   "id": "fc8aac68",
   "metadata": {},
   "outputs": [
    {
     "data": {
      "image/png": "[encoded data removed]",
      "text/plain": [
       "<Figure size 1000x500 with 1 Axes>"
      ]
     },
     "metadata": {},
     "output_type": "display_data"
    }
   ],
   "source": [
    "# current figure\n",
    "pyplot.figure(figsize=(10,5))\n",
    "\n",
    "# plot\n",
    "pyplot.bar(name_appearances_df[\"Name\"], name_appearances_df[\"Appearances\"])\n",
    "\n",
    "# formatting\n",
    "pyplot.title(\"Top 5 Comic Characters by Appearance\", fontweight=\"bold\")\n",
    "pyplot.xlabel(\"Comic Character\", fontweight=\"bold\")\n",
    "pyplot.ylabel(\"Appearances\", fontweight=\"bold\")\n",
    "\n",
    "# save/show\n",
    "pyplot.savefig(\"visualizations/Top 5 Comic Characters by Appearance.png\")\n",
    "pyplot.show()"
   ]
  },
  {
   "cell_type": "markdown",
   "id": "ea8012b3",
   "metadata": {},
   "source": [
    "## Question 2: How common are each eye color, hair color, and sex?"
   ]
  },
  {
   "cell_type": "code",
   "execution_count": 5,
   "id": "f9292254",
   "metadata": {},
   "outputs": [
    {
     "data": {
      "text/html": [
       "<div>\n",
       "<style scoped>\n",
       "    .dataframe tbody tr th:only-of-type {\n",
       "        vertical-align: middle;\n",
       "    }\n",
       "\n",
       "    .dataframe tbody tr th {\n",
       "        vertical-align: top;\n",
       "    }\n",
       "\n",
       "    .dataframe thead th {\n",
       "        text-align: right;\n",
       "    }\n",
       "</style>\n",
       "<table border=\"1\" class=\"dataframe\">\n",
       "  <thead>\n",
       "    <tr style=\"text-align: right;\">\n",
       "      <th></th>\n",
       "      <th>Eye Color</th>\n",
       "      <th>Count</th>\n",
       "    </tr>\n",
       "  </thead>\n",
       "  <tbody>\n",
       "    <tr>\n",
       "      <th>2</th>\n",
       "      <td>Blue</td>\n",
       "      <td>917</td>\n",
       "    </tr>\n",
       "    <tr>\n",
       "      <th>3</th>\n",
       "      <td>Brown</td>\n",
       "      <td>724</td>\n",
       "    </tr>\n",
       "    <tr>\n",
       "      <th>1</th>\n",
       "      <td>Black</td>\n",
       "      <td>268</td>\n",
       "    </tr>\n",
       "    <tr>\n",
       "      <th>5</th>\n",
       "      <td>Green</td>\n",
       "      <td>210</td>\n",
       "    </tr>\n",
       "    <tr>\n",
       "      <th>12</th>\n",
       "      <td>Red</td>\n",
       "      <td>111</td>\n",
       "    </tr>\n",
       "  </tbody>\n",
       "</table>\n",
       "</div>"
      ],
      "text/plain": [
       "   Eye Color  Count\n",
       "2       Blue    917\n",
       "3      Brown    724\n",
       "1      Black    268\n",
       "5      Green    210\n",
       "12       Red    111"
      ]
     },
     "execution_count": 5,
     "metadata": {},
     "output_type": "execute_result"
    }
   ],
   "source": [
    "eyecolor_count_df = comic_characters_df.copy().groupby(\"Eye Color\")[\"Name\"].nunique().reset_index().sort_values(by=\"Name\", ascending=False).head()\n",
    "eyecolor_count_df = eyecolor_count_df.rename(columns={\n",
    "\t\"Name\": \"Count\"\n",
    "})\n",
    "\n",
    "eyecolor_count_df"
   ]
  },
  {
   "cell_type": "code",
   "execution_count": 6,
   "id": "d5c05776",
   "metadata": {},
   "outputs": [
    {
     "data": {
      "image/png": "[encoded data removed]",
      "text/plain": [
       "<Figure size 1000x500 with 1 Axes>"
      ]
     },
     "metadata": {},
     "output_type": "display_data"
    }
   ],
   "source": [
    "# current figure\n",
    "pyplot.figure(figsize=(10,5))\n",
    "\n",
    "# plot\n",
    "pyplot.bar(eyecolor_count_df[\"Eye Color\"], eyecolor_count_df[\"Count\"])\n",
    "\n",
    "# formatting\n",
    "pyplot.title(\"Top 5 Eye Colors by Count\", fontweight=\"bold\")\n",
    "pyplot.xlabel(\"Eye Color\", fontweight=\"bold\")\n",
    "pyplot.ylabel(\"Count\", fontweight=\"bold\")\n",
    "\n",
    "# save/show\n",
    "pyplot.savefig(\"visualizations/Top 5 Eye Colors by Count.png\")\n",
    "pyplot.show()"
   ]
  },
  {
   "cell_type": "code",
   "execution_count": 7,
   "id": "ee83016f",
   "metadata": {},
   "outputs": [
    {
     "data": {
      "text/html": [
       "<div>\n",
       "<style scoped>\n",
       "    .dataframe tbody tr th:only-of-type {\n",
       "        vertical-align: middle;\n",
       "    }\n",
       "\n",
       "    .dataframe tbody tr th {\n",
       "        vertical-align: top;\n",
       "    }\n",
       "\n",
       "    .dataframe thead th {\n",
       "        text-align: right;\n",
       "    }\n",
       "</style>\n",
       "<table border=\"1\" class=\"dataframe\">\n",
       "  <thead>\n",
       "    <tr style=\"text-align: right;\">\n",
       "      <th></th>\n",
       "      <th>Hair Color</th>\n",
       "      <th>Count</th>\n",
       "    </tr>\n",
       "  </thead>\n",
       "  <tbody>\n",
       "    <tr>\n",
       "      <th>0</th>\n",
       "      <td>Black</td>\n",
       "      <td>891</td>\n",
       "    </tr>\n",
       "    <tr>\n",
       "      <th>3</th>\n",
       "      <td>Brown</td>\n",
       "      <td>524</td>\n",
       "    </tr>\n",
       "    <tr>\n",
       "      <th>1</th>\n",
       "      <td>Blond</td>\n",
       "      <td>405</td>\n",
       "    </tr>\n",
       "    <tr>\n",
       "      <th>11</th>\n",
       "      <td>Red</td>\n",
       "      <td>244</td>\n",
       "    </tr>\n",
       "    <tr>\n",
       "      <th>16</th>\n",
       "      <td>White</td>\n",
       "      <td>170</td>\n",
       "    </tr>\n",
       "  </tbody>\n",
       "</table>\n",
       "</div>"
      ],
      "text/plain": [
       "   Hair Color  Count\n",
       "0       Black    891\n",
       "3       Brown    524\n",
       "1       Blond    405\n",
       "11        Red    244\n",
       "16      White    170"
      ]
     },
     "execution_count": 7,
     "metadata": {},
     "output_type": "execute_result"
    }
   ],
   "source": [
    "haircolor_count_df = comic_characters_df.copy().groupby(\"Hair Color\")[\"Name\"].nunique().reset_index().sort_values(by=\"Name\", ascending=False).head()\n",
    "haircolor_count_df = haircolor_count_df.rename(columns={\n",
    "\t\"Name\": \"Count\"\n",
    "})\n",
    "\n",
    "haircolor_count_df"
   ]
  },
  {
   "cell_type": "code",
   "execution_count": 8,
   "id": "5ca73a6d",
   "metadata": {},
   "outputs": [
    {
     "data": {
      "image/png": "[encoded data removed]",
      "text/plain": [
       "<Figure size 1000x500 with 1 Axes>"
      ]
     },
     "metadata": {},
     "output_type": "display_data"
    }
   ],
   "source": [
    "# current figure\n",
    "pyplot.figure(figsize=(10,5))\n",
    "\n",
    "# plot\n",
    "pyplot.bar(haircolor_count_df[\"Hair Color\"], haircolor_count_df[\"Count\"])\n",
    "\n",
    "# formatting\n",
    "pyplot.title(\"Top 5 Hair Colors by Count\", fontweight=\"bold\")\n",
    "pyplot.xlabel(\"Hair Color\", fontweight=\"bold\")\n",
    "pyplot.ylabel(\"Count\", fontweight=\"bold\")\n",
    "\n",
    "# save/show\n",
    "pyplot.savefig(\"visualizations/Top 5 Hair Colors by Count.png\")\n",
    "pyplot.show()"
   ]
  },
  {
   "cell_type": "code",
   "execution_count": 9,
   "id": "9d7b0b43",
   "metadata": {},
   "outputs": [
    {
     "data": {
      "text/html": [
       "<div>\n",
       "<style scoped>\n",
       "    .dataframe tbody tr th:only-of-type {\n",
       "        vertical-align: middle;\n",
       "    }\n",
       "\n",
       "    .dataframe tbody tr th {\n",
       "        vertical-align: top;\n",
       "    }\n",
       "\n",
       "    .dataframe thead th {\n",
       "        text-align: right;\n",
       "    }\n",
       "</style>\n",
       "<table border=\"1\" class=\"dataframe\">\n",
       "  <thead>\n",
       "    <tr style=\"text-align: right;\">\n",
       "      <th></th>\n",
       "      <th>Sex</th>\n",
       "      <th>Count</th>\n",
       "    </tr>\n",
       "  </thead>\n",
       "  <tbody>\n",
       "    <tr>\n",
       "      <th>1</th>\n",
       "      <td>Male</td>\n",
       "      <td>1505</td>\n",
       "    </tr>\n",
       "    <tr>\n",
       "      <th>0</th>\n",
       "      <td>Female</td>\n",
       "      <td>906</td>\n",
       "    </tr>\n",
       "  </tbody>\n",
       "</table>\n",
       "</div>"
      ],
      "text/plain": [
       "      Sex  Count\n",
       "1    Male   1505\n",
       "0  Female    906"
      ]
     },
     "execution_count": 9,
     "metadata": {},
     "output_type": "execute_result"
    }
   ],
   "source": [
    "sex_count_df = comic_characters_df.copy().groupby(\"Sex\")[\"Name\"].nunique().reset_index().sort_values(by=\"Name\", ascending=False)\n",
    "sex_count_df = sex_count_df.rename(columns={\n",
    "\t\"Name\": \"Count\"\n",
    "})\n",
    "\n",
    "sex_count_df"
   ]
  },
  {
   "cell_type": "code",
   "execution_count": 10,
   "id": "24b94a26",
   "metadata": {},
   "outputs": [
    {
     "data": {
      "image/png": "[encoded data removed]",
      "text/plain": [
       "<Figure size 1000x500 with 1 Axes>"
      ]
     },
     "metadata": {},
     "output_type": "display_data"
    }
   ],
   "source": [
    "# current figure\n",
    "pyplot.figure(figsize=(10,5))\n",
    "\n",
    "# plot\n",
    "pyplot.bar(sex_count_df[\"Sex\"], sex_count_df[\"Count\"])\n",
    "\n",
    "# formatting\n",
    "pyplot.title(\"Top Sexes by Count\", fontweight=\"bold\")\n",
    "pyplot.xlabel(\"Sex\", fontweight=\"bold\")\n",
    "pyplot.ylabel(\"Count\", fontweight=\"bold\")\n",
    "\n",
    "# save/show\n",
    "pyplot.savefig(\"visualizations/Top Sexes by Count.png\")\n",
    "pyplot.show()"
   ]
  }
 ],
 "metadata": {
  "kernelspec": {
   "display_name": "Python 3",
   "language": "python",
   "name": "python3"
  },
  "language_info": {
   "codemirror_mode": {
    "name": "ipython",
    "version": 3
   },
   "file_extension": ".py",
   "mimetype": "text/x-python",
   "name": "python",
   "nbconvert_exporter": "python",
   "pygments_lexer": "ipython3",
   "version": "3.9.6"
  }
 },
 "nbformat": 4,
 "nbformat_minor": 5
}
